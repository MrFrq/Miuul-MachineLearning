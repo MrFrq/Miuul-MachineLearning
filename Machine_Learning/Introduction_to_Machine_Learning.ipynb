{
 "cells": [
  {
   "cell_type": "markdown",
   "id": "105c175d",
   "metadata": {},
   "source": [
    "# Machine Learning"
   ]
  },
  {
   "cell_type": "markdown",
   "id": "c307f9f0",
   "metadata": {},
   "source": [
    "Bilgisayarların insanlara benzer şekilde öğrenmesini sağlamak maksadıyla çeşitli algoritma ve tekniklerin geliştirilmesi için çalışılan bilimsel çalışma alanıdır."
   ]
  },
  {
   "cell_type": "markdown",
   "id": "c2eb946a",
   "metadata": {},
   "source": [
    " Bağımlı değişkenimiz sayısal olan problemlere regresyon problemi denir"
   ]
  },
  {
   "cell_type": "markdown",
   "id": "4d17c568",
   "metadata": {},
   "source": [
    " Bağımlı değişkenimiz kategorik olan problemlere sınıflandırma problemi denir"
   ]
  },
  {
   "cell_type": "markdown",
   "id": "efe67668",
   "metadata": {},
   "source": [
    "#### Değişken Türleri \n",
    "- Sayısal Değişkenler\n",
    "- Kategorik Değişkenler(Nominal,Ordinal)\n",
    "\n",
    "    Nominal : Kadın - Erkek, Sınıflar arasında fark yoktur\n",
    "\n",
    "    Ordinal : Eğitim Durumu , Sınıflar arası fark vardır, sıralıdır.\n",
    "\n",
    "\n",
    "- Bağımlı Değişken : İlgilendiğimiz problemdeki hedefimizdir (target,output,response,dependent diye isimlendirebilir)\n",
    "- Bağımsız Değişken : İlgilendiğimiz problemde target ' a etki ettiğini varsaydığımız değişkendir . (feature olarak da isimlendirilir)\n",
    "\n",
    "\n",
    "\n",
    "\n"
   ]
  },
  {
   "cell_type": "markdown",
   "id": "780913b9",
   "metadata": {},
   "source": [
    "#### Öğrenme Türleri \n",
    "\n",
    "3 farklı öğrenme türümüz vardır.\n",
    " - Denetimli Öğrenme (Supervised) -> Eğer veri setinde labellarımız yer alıyorsa bu denetimli öğrenmedir. Bağımlı değişken varsa denetimli öğrenmedir\n",
    " - Denetimsiz Öğrenme (Unsupervised) -> Eğer veri setinde labellarımız yok ise yani bağımlı(hedef) değişkenimiz yoksa gözetimsiz denetimsiz öğrenmedir\n",
    " - Pekiştirmeli Öğrenme (Reinforcement) -> Deneme yanılma ile öğrenme durumuna denilebilir\n",
    "\n"
   ]
  },
  {
   "cell_type": "markdown",
   "id": "95c4ce61",
   "metadata": {},
   "source": [
    "#### Problem Türleri\n",
    " \n",
    " Regresyon problem mi ? Sınıflandırma Problemi mi ? \n",
    " \n",
    " - Eğer bağımlı değişken sayısal ise regresyon problemidir\n",
    " \n",
    " - Eğer bağımlı değişken kategorik ise sınıflandırma problemidir\n",
    " \n",
    " \n",
    " "
   ]
  },
  {
   "cell_type": "markdown",
   "id": "367cea4f",
   "metadata": {},
   "source": [
    "#### Model Başarı Değerlendirme\n",
    "\n",
    "  Tahminlerim ne kadar başarılı ? Kurmuş oldugumuz modeller tahminlerde bulundugunda bu tahminlerde belirli sapmalar bekleriz , (hatalı tahminlere artık denir)\n",
    "  \n",
    "  - Regresyon Modellerinde Başarı Değerlendirme;\n",
    "    \n",
    "      MSE = Başarı değerlendirme ölçüsüdür. Kurmuş oldugumuz model neticesindeki gerçek değerler ile modelin tahmin ettiği değerler  arasındaki farkları değerlendirme imkanı sunar .Ortalama hata metriğidir\n",
    "\n",
    "      RMSE = Ortalama hata metriğidir.\n",
    "      \n",
    "      MAE = \n",
    "  \n",
    "  \n",
    "  \n",
    "  - Sınıflandırma Modellerinde Başarı Değerlendirme;\n",
    "  \n",
    "      Accuracy (Doğru Sınıflandırma Oranı) = Doğru Sınıflandırma Sayısı / Toplam sınıflandırılan Gözlem Sayısı\n",
    "      \n",
    "      \n",
    "     -- MSE ne kadar düşük olursa o kadar iyidir\n",
    "      \n",
    "     -- Accuracy ne kadar fazla ise o kadar iyidir"
   ]
  },
  {
   "cell_type": "markdown",
   "id": "67d0bd42",
   "metadata": {},
   "source": [
    "####  Model Doğrulama  Yöntemleri\n",
    "  - Holdout Yöntemi (Sınama Seti Yöntemi): \n",
    "\n",
    "  Orjinal veri setini Eğitim Seti ve Test Seti olarak ikiye bölünür.  Eğitim Seti üzerinde modelleme işlemi(train,öğrenme) gerçeklesir daha sonra o modele test setinden sorular sorularak test edilir . Başarı bu sekilde değerlendirilir.\n",
    "  \n",
    "  \n",
    "  - K-Katlı Çapraz Doğrulama Yöntemi \n",
    "  \n",
    "   Çapraz doğrulama tekniği günümüzde yoğun olarak kestirimci makine öğrenimi modellerinin test edilmesi için kullanılıyor. Bir veri setindeki biri hariç tüm alt setlerde eğitilen makine öğrenimi modelinin doğruluğu, öğrendiklerinden yola çıkarak geriye kalan set hakkında tahminlerde bulunmasıyla ölçülüyor. Veri bilimcileri, hangi modelin en iyi tahminleri gerçekleştirebildiğini sağlıklı şekilde saptamak için farklı veri setleri kullanarak, birden çok çapraz doğrulama uyguluyor. Çapraz doğrulama, özellikle algoritmaların eğitimi için kısıtlı veri bulunduğunda faydalı bir teknik olarak öne çıkıyor\n",
    "  \n"
   ]
  },
  {
   "cell_type": "markdown",
   "id": "2879c906",
   "metadata": {},
   "source": [
    " #### Yanlılık (bias)- Varyans Değiş Tokuşu\n",
    " \n",
    " Model Kurmak : Bağımlı ve bağımsız değişken arasındaki ilişkiyi , ilişkinin özütünü çıkarmak demektir. Bu ilişkiyi öğrenmek demekti. \n",
    " \n",
    " - Aşırı öğrenme(Overfitting) , Yüksek varyans : Modelin veriyi öğrenmesidir. Modelin veriyi ezberlemesidir. Bizim amacımız; veriyi öğrenmek değil, veri içerisindeki örüntüyü öğrenmektir. Veriyi öğrenmesini değil, verinin yapısını öğrenmesini bekleriz.\n",
    " \n",
    "  (Yüksek Varyans yani değişkenlik fazla )\n",
    "  \n",
    " \n",
    " - Az Öğrenme (Underfitting) , Yüksek yanlılık : Modelin veriyi öğrenememe problemidir.\n",
    " \n",
    " ( Yüksek yanlılık yani bazı gözlemlere daha yanlı , daha yakın demek)\n",
    " \n",
    " \n",
    " - Doğru Model , Düşük Yanlılık, Düşük Varyans : Veri setinin taşıdığı örüntünün(ilişkinin) temsil edilmesidir.\n",
    " \n",
    " \n",
    " \n",
    "     --- Aşırı öğrenmeye düştüğünüzü nasıl anlarsınız ? Aşırı Öğrenme nasıl tespit edilir?\n",
    "      Aşırı öğrenme sorunu, eğitim seti ve test setinin Model Karmaşıklıgı ve Tahmin Hatası çerçevesinde birlikte \n",
    "      değerlendirilmesi ile tespit edilebilir. Eğitim seti ve test setindeki hata değişimleri incelenir , bu iki hatanın \n",
    "      birbirinden ayrılmaya başladıgı nokta itibari ile aşırı öğrenme başlamıstır denir .Aşırı öğrenmeyi tespit ettiğimiz \n",
    "      noktada model karmaşıklıgını , eğitim süresini iterasyonu durdurursak bu problemin önüne geçeriz.\n",
    "\n",
    "     --- Model Karmaşıklıgı nedir ? \n",
    "     Modelin hassaslaştırılmasıdır. Daha detaylı tahmin yapılabilmesi için özelliklerinin kuvvetlendirilmesidir. Ağaç \n",
    "     yöntemlerinde ağaçların dallandırılmasıdır. Karmaşıklaştırma bir süreye kadar kötü değildir ama bir noktadan sonra ezberlenmeye\n",
    "     gidildiği için bir noktadan sonra karmaşıklaştırılma yapılmamalıdır.\n",
    "\n",
    "\n",
    "     --- Aşırı Öğrenme nasıl çözülür?\n",
    "     Bunun bircok yanıtı olabilir. Veri setinin boyutu arttırılabilir. Feature selection yapılabilir.  En nihayetinde,  \n",
    "     eğitim seti ile test setinin hatalarının birbirlerinden ayrıldıgı nokta seçilir optimum nokta olarak.  Bu noktada \n",
    "     duruldugunda aşırı öğrenmenin önüne geçilmiş olunur.\n",
    " "
   ]
  },
  {
   "cell_type": "markdown",
   "id": "06e0633b",
   "metadata": {},
   "source": [
    "# Doğrusal Regresyon\n",
    "\n",
    "Amaç, bağımlı ve bağımsız değişkenler arasındaki ilişkiyi doğrusal olarak modellemektir.\n",
    "\n",
    "- yi = b + wxi  (tek değişkenli)\n",
    "\n",
    "yi = bağımlı değişken yani tahminimiz\n",
    "\n",
    "xi = bağımsız değişken(ler)\n",
    "\n",
    "- yi = b + w1x1 + w2x2 + w3x3 + ........ + wpxp  (çok değişkenli)\n",
    "\n",
    "\n",
    "Bir model kurdum, makine öğrenmesi yöntemi kullandım , öğrendim dediğimiz şeyler buradaki ağırlıklardır. (Yani w)\n",
    "\n",
    "b = beta, bias, sabit şeklinde ifade edilir\n",
    "\n",
    "w = ağırlık, katsayı şeklinde ifade edilir\n",
    "\n",
    "\n",
    "w ifadeleri ilgili değişkenlerin etkilerini ifade etmek için kullanılır\n",
    "\n",
    "\n",
    "## Ağırlıkların Bulunması\n",
    "\n",
    "Ağırlıklara göre değişkenlerin etkileri biçimlendirilebiliyor dedik. Bu ağırlıkları nasıl bulacağız? Neye göre bulunacak?\n",
    "\n",
    "** Gerçek değerler ile tahmin edilen değerler arasındaki farkların karelerinin toplamını/ortalamasını minimum yapabilecek b ve w değerlerini bularak.\n",
    "\n",
    "** Buradaki sabit ve ağırlık ifadeleri öyle bir şekilde bulunmalı ki en uygun değerlere sahip olsun\n"
   ]
  },
  {
   "cell_type": "code",
   "execution_count": null,
   "id": "4866b292",
   "metadata": {},
   "outputs": [],
   "source": [
    " "
   ]
  },
  {
   "cell_type": "code",
   "execution_count": null,
   "id": "adc2b593",
   "metadata": {},
   "outputs": [],
   "source": []
  },
  {
   "cell_type": "code",
   "execution_count": null,
   "id": "a4c1d4b6",
   "metadata": {},
   "outputs": [],
   "source": []
  },
  {
   "cell_type": "code",
   "execution_count": null,
   "id": "42005283",
   "metadata": {},
   "outputs": [],
   "source": []
  },
  {
   "cell_type": "code",
   "execution_count": null,
   "id": "29f7839e",
   "metadata": {},
   "outputs": [],
   "source": []
  }
 ],
 "metadata": {
  "kernelspec": {
   "display_name": "Python 3 (ipykernel)",
   "language": "python",
   "name": "python3"
  },
  "language_info": {
   "codemirror_mode": {
    "name": "ipython",
    "version": 3
   },
   "file_extension": ".py",
   "mimetype": "text/x-python",
   "name": "python",
   "nbconvert_exporter": "python",
   "pygments_lexer": "ipython3",
   "version": "3.9.12"
  }
 },
 "nbformat": 4,
 "nbformat_minor": 5
}
