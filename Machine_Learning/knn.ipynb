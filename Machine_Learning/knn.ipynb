{
 "cells": [
  {
   "cell_type": "markdown",
   "id": "a71d8957",
   "metadata": {},
   "source": [
    "################################################\n",
    "# KNN\n",
    "################################################\n",
    "\n",
    " 1. Exploratory Data Analysis\n",
    " 2. Data Preprocessing & Feature Engineering\n",
    " 3. Modeling & Prediction\n",
    " 4. Model Evaluation\n",
    " 5. Hyperparameter Optimization\n",
    " 6. Final Model"
   ]
  },
  {
   "cell_type": "code",
   "execution_count": 1,
   "id": "17e8cf06",
   "metadata": {},
   "outputs": [],
   "source": [
    "\n",
    "import pandas as pd\n",
    "from sklearn.metrics import classification_report, roc_auc_score\n",
    "from sklearn.model_selection import GridSearchCV, cross_validate\n",
    "from sklearn.neighbors import KNeighborsClassifier\n",
    "from sklearn.preprocessing import StandardScaler\n",
    "pd.set_option('display.max_columns', None)\n",
    "pd.set_option('display.width', 500)"
   ]
  },
  {
   "cell_type": "code",
   "execution_count": null,
   "id": "18f0e3b7",
   "metadata": {},
   "outputs": [],
   "source": [
    "# 1. Exploratory Data Analysis"
   ]
  },
  {
   "cell_type": "code",
   "execution_count": 3,
   "id": "9c82da03",
   "metadata": {},
   "outputs": [
    {
     "data": {
      "text/html": [
       "<div>\n",
       "<style scoped>\n",
       "    .dataframe tbody tr th:only-of-type {\n",
       "        vertical-align: middle;\n",
       "    }\n",
       "\n",
       "    .dataframe tbody tr th {\n",
       "        vertical-align: top;\n",
       "    }\n",
       "\n",
       "    .dataframe thead th {\n",
       "        text-align: right;\n",
       "    }\n",
       "</style>\n",
       "<table border=\"1\" class=\"dataframe\">\n",
       "  <thead>\n",
       "    <tr style=\"text-align: right;\">\n",
       "      <th></th>\n",
       "      <th>Pregnancies</th>\n",
       "      <th>Glucose</th>\n",
       "      <th>BloodPressure</th>\n",
       "      <th>SkinThickness</th>\n",
       "      <th>Insulin</th>\n",
       "      <th>BMI</th>\n",
       "      <th>DiabetesPedigreeFunction</th>\n",
       "      <th>Age</th>\n",
       "      <th>Outcome</th>\n",
       "    </tr>\n",
       "  </thead>\n",
       "  <tbody>\n",
       "    <tr>\n",
       "      <th>0</th>\n",
       "      <td>6</td>\n",
       "      <td>148</td>\n",
       "      <td>72</td>\n",
       "      <td>35</td>\n",
       "      <td>0</td>\n",
       "      <td>33.6</td>\n",
       "      <td>0.627</td>\n",
       "      <td>50</td>\n",
       "      <td>1</td>\n",
       "    </tr>\n",
       "    <tr>\n",
       "      <th>1</th>\n",
       "      <td>1</td>\n",
       "      <td>85</td>\n",
       "      <td>66</td>\n",
       "      <td>29</td>\n",
       "      <td>0</td>\n",
       "      <td>26.6</td>\n",
       "      <td>0.351</td>\n",
       "      <td>31</td>\n",
       "      <td>0</td>\n",
       "    </tr>\n",
       "    <tr>\n",
       "      <th>2</th>\n",
       "      <td>8</td>\n",
       "      <td>183</td>\n",
       "      <td>64</td>\n",
       "      <td>0</td>\n",
       "      <td>0</td>\n",
       "      <td>23.3</td>\n",
       "      <td>0.672</td>\n",
       "      <td>32</td>\n",
       "      <td>1</td>\n",
       "    </tr>\n",
       "    <tr>\n",
       "      <th>3</th>\n",
       "      <td>1</td>\n",
       "      <td>89</td>\n",
       "      <td>66</td>\n",
       "      <td>23</td>\n",
       "      <td>94</td>\n",
       "      <td>28.1</td>\n",
       "      <td>0.167</td>\n",
       "      <td>21</td>\n",
       "      <td>0</td>\n",
       "    </tr>\n",
       "    <tr>\n",
       "      <th>4</th>\n",
       "      <td>0</td>\n",
       "      <td>137</td>\n",
       "      <td>40</td>\n",
       "      <td>35</td>\n",
       "      <td>168</td>\n",
       "      <td>43.1</td>\n",
       "      <td>2.288</td>\n",
       "      <td>33</td>\n",
       "      <td>1</td>\n",
       "    </tr>\n",
       "  </tbody>\n",
       "</table>\n",
       "</div>"
      ],
      "text/plain": [
       "   Pregnancies  Glucose  BloodPressure  SkinThickness  Insulin   BMI  DiabetesPedigreeFunction  Age  Outcome\n",
       "0            6      148             72             35        0  33.6                     0.627   50        1\n",
       "1            1       85             66             29        0  26.6                     0.351   31        0\n",
       "2            8      183             64              0        0  23.3                     0.672   32        1\n",
       "3            1       89             66             23       94  28.1                     0.167   21        0\n",
       "4            0      137             40             35      168  43.1                     2.288   33        1"
      ]
     },
     "execution_count": 3,
     "metadata": {},
     "output_type": "execute_result"
    }
   ],
   "source": [
    "df = pd.read_csv(\"diabetes.csv\")\n",
    "df.head() "
   ]
  },
  {
   "cell_type": "code",
   "execution_count": 5,
   "id": "3a75409c",
   "metadata": {},
   "outputs": [
    {
     "data": {
      "text/plain": [
       "(768, 9)"
      ]
     },
     "execution_count": 5,
     "metadata": {},
     "output_type": "execute_result"
    }
   ],
   "source": [
    "df.shape"
   ]
  },
  {
   "cell_type": "code",
   "execution_count": 6,
   "id": "f6d716bc",
   "metadata": {},
   "outputs": [
    {
     "data": {
      "text/html": [
       "<div>\n",
       "<style scoped>\n",
       "    .dataframe tbody tr th:only-of-type {\n",
       "        vertical-align: middle;\n",
       "    }\n",
       "\n",
       "    .dataframe tbody tr th {\n",
       "        vertical-align: top;\n",
       "    }\n",
       "\n",
       "    .dataframe thead th {\n",
       "        text-align: right;\n",
       "    }\n",
       "</style>\n",
       "<table border=\"1\" class=\"dataframe\">\n",
       "  <thead>\n",
       "    <tr style=\"text-align: right;\">\n",
       "      <th></th>\n",
       "      <th>count</th>\n",
       "      <th>mean</th>\n",
       "      <th>std</th>\n",
       "      <th>min</th>\n",
       "      <th>25%</th>\n",
       "      <th>50%</th>\n",
       "      <th>75%</th>\n",
       "      <th>max</th>\n",
       "    </tr>\n",
       "  </thead>\n",
       "  <tbody>\n",
       "    <tr>\n",
       "      <th>Pregnancies</th>\n",
       "      <td>768.0</td>\n",
       "      <td>3.845052</td>\n",
       "      <td>3.369578</td>\n",
       "      <td>0.000</td>\n",
       "      <td>1.00000</td>\n",
       "      <td>3.0000</td>\n",
       "      <td>6.00000</td>\n",
       "      <td>17.00</td>\n",
       "    </tr>\n",
       "    <tr>\n",
       "      <th>Glucose</th>\n",
       "      <td>768.0</td>\n",
       "      <td>120.894531</td>\n",
       "      <td>31.972618</td>\n",
       "      <td>0.000</td>\n",
       "      <td>99.00000</td>\n",
       "      <td>117.0000</td>\n",
       "      <td>140.25000</td>\n",
       "      <td>199.00</td>\n",
       "    </tr>\n",
       "    <tr>\n",
       "      <th>BloodPressure</th>\n",
       "      <td>768.0</td>\n",
       "      <td>69.105469</td>\n",
       "      <td>19.355807</td>\n",
       "      <td>0.000</td>\n",
       "      <td>62.00000</td>\n",
       "      <td>72.0000</td>\n",
       "      <td>80.00000</td>\n",
       "      <td>122.00</td>\n",
       "    </tr>\n",
       "    <tr>\n",
       "      <th>SkinThickness</th>\n",
       "      <td>768.0</td>\n",
       "      <td>20.536458</td>\n",
       "      <td>15.952218</td>\n",
       "      <td>0.000</td>\n",
       "      <td>0.00000</td>\n",
       "      <td>23.0000</td>\n",
       "      <td>32.00000</td>\n",
       "      <td>99.00</td>\n",
       "    </tr>\n",
       "    <tr>\n",
       "      <th>Insulin</th>\n",
       "      <td>768.0</td>\n",
       "      <td>79.799479</td>\n",
       "      <td>115.244002</td>\n",
       "      <td>0.000</td>\n",
       "      <td>0.00000</td>\n",
       "      <td>30.5000</td>\n",
       "      <td>127.25000</td>\n",
       "      <td>846.00</td>\n",
       "    </tr>\n",
       "    <tr>\n",
       "      <th>BMI</th>\n",
       "      <td>768.0</td>\n",
       "      <td>31.992578</td>\n",
       "      <td>7.884160</td>\n",
       "      <td>0.000</td>\n",
       "      <td>27.30000</td>\n",
       "      <td>32.0000</td>\n",
       "      <td>36.60000</td>\n",
       "      <td>67.10</td>\n",
       "    </tr>\n",
       "    <tr>\n",
       "      <th>DiabetesPedigreeFunction</th>\n",
       "      <td>768.0</td>\n",
       "      <td>0.471876</td>\n",
       "      <td>0.331329</td>\n",
       "      <td>0.078</td>\n",
       "      <td>0.24375</td>\n",
       "      <td>0.3725</td>\n",
       "      <td>0.62625</td>\n",
       "      <td>2.42</td>\n",
       "    </tr>\n",
       "    <tr>\n",
       "      <th>Age</th>\n",
       "      <td>768.0</td>\n",
       "      <td>33.240885</td>\n",
       "      <td>11.760232</td>\n",
       "      <td>21.000</td>\n",
       "      <td>24.00000</td>\n",
       "      <td>29.0000</td>\n",
       "      <td>41.00000</td>\n",
       "      <td>81.00</td>\n",
       "    </tr>\n",
       "    <tr>\n",
       "      <th>Outcome</th>\n",
       "      <td>768.0</td>\n",
       "      <td>0.348958</td>\n",
       "      <td>0.476951</td>\n",
       "      <td>0.000</td>\n",
       "      <td>0.00000</td>\n",
       "      <td>0.0000</td>\n",
       "      <td>1.00000</td>\n",
       "      <td>1.00</td>\n",
       "    </tr>\n",
       "  </tbody>\n",
       "</table>\n",
       "</div>"
      ],
      "text/plain": [
       "                          count        mean         std     min       25%       50%        75%     max\n",
       "Pregnancies               768.0    3.845052    3.369578   0.000   1.00000    3.0000    6.00000   17.00\n",
       "Glucose                   768.0  120.894531   31.972618   0.000  99.00000  117.0000  140.25000  199.00\n",
       "BloodPressure             768.0   69.105469   19.355807   0.000  62.00000   72.0000   80.00000  122.00\n",
       "SkinThickness             768.0   20.536458   15.952218   0.000   0.00000   23.0000   32.00000   99.00\n",
       "Insulin                   768.0   79.799479  115.244002   0.000   0.00000   30.5000  127.25000  846.00\n",
       "BMI                       768.0   31.992578    7.884160   0.000  27.30000   32.0000   36.60000   67.10\n",
       "DiabetesPedigreeFunction  768.0    0.471876    0.331329   0.078   0.24375    0.3725    0.62625    2.42\n",
       "Age                       768.0   33.240885   11.760232  21.000  24.00000   29.0000   41.00000   81.00\n",
       "Outcome                   768.0    0.348958    0.476951   0.000   0.00000    0.0000    1.00000    1.00"
      ]
     },
     "execution_count": 6,
     "metadata": {},
     "output_type": "execute_result"
    }
   ],
   "source": [
    "df.describe().T "
   ]
  },
  {
   "cell_type": "code",
   "execution_count": 7,
   "id": "0df9a985",
   "metadata": {},
   "outputs": [
    {
     "data": {
      "text/plain": [
       "0    500\n",
       "1    268\n",
       "Name: Outcome, dtype: int64"
      ]
     },
     "execution_count": 7,
     "metadata": {},
     "output_type": "execute_result"
    }
   ],
   "source": [
    "df[\"Outcome\"].value_counts()"
   ]
  },
  {
   "cell_type": "code",
   "execution_count": null,
   "id": "ebd46f4f",
   "metadata": {},
   "outputs": [],
   "source": [
    "# 2. Data Preprocessing & Feature Engineering"
   ]
  },
  {
   "cell_type": "code",
   "execution_count": 10,
   "id": "7c2f7169",
   "metadata": {},
   "outputs": [],
   "source": [
    "y = df[\"Outcome\"]\n",
    "X = df.drop([\"Outcome\"], axis=1)"
   ]
  },
  {
   "cell_type": "markdown",
   "id": "78a8ecd2",
   "metadata": {},
   "source": [
    "Bu problemin özelinde bir standartlaştırma yapmak gerekir.Kullanacak olduğumuz knn yöntemi uzaklık temelli bir yöntem. Uzaklık temelli yöntemlerde ve gradient descent  temelli yöntemlerde değişkenlerin standart olması elde edilecek sonucların daha hızlı ve daha doğru olmasını sağlayacaktır.\n",
    "\n",
    "Bu sebeple elimizdeki bağımsız değişkenleri standartlaştırma işlemi yapmamız gerekiyor.\n",
    "\n",
    "StandardScaler() ı çağırıyoruz ve fit_transform(X) diyerek bağımsız değişkenleri standartlaştırıyoruz. Ve X_scaled diyerek kaydediyorum"
   ]
  },
  {
   "cell_type": "code",
   "execution_count": 12,
   "id": "1c5bcedf",
   "metadata": {},
   "outputs": [
    {
     "data": {
      "text/plain": [
       "array([[ 0.63994726,  0.84832379,  0.14964075, ...,  0.20401277,\n",
       "         0.46849198,  1.4259954 ],\n",
       "       [-0.84488505, -1.12339636, -0.16054575, ..., -0.68442195,\n",
       "        -0.36506078, -0.19067191],\n",
       "       [ 1.23388019,  1.94372388, -0.26394125, ..., -1.10325546,\n",
       "         0.60439732, -0.10558415],\n",
       "       ...,\n",
       "       [ 0.3429808 ,  0.00330087,  0.14964075, ..., -0.73518964,\n",
       "        -0.68519336, -0.27575966],\n",
       "       [-0.84488505,  0.1597866 , -0.47073225, ..., -0.24020459,\n",
       "        -0.37110101,  1.17073215],\n",
       "       [-0.84488505, -0.8730192 ,  0.04624525, ..., -0.20212881,\n",
       "        -0.47378505, -0.87137393]])"
      ]
     },
     "execution_count": 12,
     "metadata": {},
     "output_type": "execute_result"
    }
   ],
   "source": [
    "X_scaled = StandardScaler().fit_transform(X)\n",
    "X_scaled"
   ]
  },
  {
   "cell_type": "markdown",
   "id": "40f98d86",
   "metadata": {},
   "source": [
    "X_scaled ' ı calıştırdıgımızda bir numpy array dönüyor. Ve değişken değerleri standartlaşmış olsa da elimizdeki numpy array i istediğimiz bilgileri taşımıyor. Yani sutun isimleri yok. Sütun isimlerini eklememiz lazım "
   ]
  },
  {
   "cell_type": "code",
   "execution_count": 13,
   "id": "b783ccc4",
   "metadata": {},
   "outputs": [
    {
     "data": {
      "text/html": [
       "<div>\n",
       "<style scoped>\n",
       "    .dataframe tbody tr th:only-of-type {\n",
       "        vertical-align: middle;\n",
       "    }\n",
       "\n",
       "    .dataframe tbody tr th {\n",
       "        vertical-align: top;\n",
       "    }\n",
       "\n",
       "    .dataframe thead th {\n",
       "        text-align: right;\n",
       "    }\n",
       "</style>\n",
       "<table border=\"1\" class=\"dataframe\">\n",
       "  <thead>\n",
       "    <tr style=\"text-align: right;\">\n",
       "      <th></th>\n",
       "      <th>Pregnancies</th>\n",
       "      <th>Glucose</th>\n",
       "      <th>BloodPressure</th>\n",
       "      <th>SkinThickness</th>\n",
       "      <th>Insulin</th>\n",
       "      <th>BMI</th>\n",
       "      <th>DiabetesPedigreeFunction</th>\n",
       "      <th>Age</th>\n",
       "    </tr>\n",
       "  </thead>\n",
       "  <tbody>\n",
       "    <tr>\n",
       "      <th>0</th>\n",
       "      <td>0.639947</td>\n",
       "      <td>0.848324</td>\n",
       "      <td>0.149641</td>\n",
       "      <td>0.907270</td>\n",
       "      <td>-0.692891</td>\n",
       "      <td>0.204013</td>\n",
       "      <td>0.468492</td>\n",
       "      <td>1.425995</td>\n",
       "    </tr>\n",
       "    <tr>\n",
       "      <th>1</th>\n",
       "      <td>-0.844885</td>\n",
       "      <td>-1.123396</td>\n",
       "      <td>-0.160546</td>\n",
       "      <td>0.530902</td>\n",
       "      <td>-0.692891</td>\n",
       "      <td>-0.684422</td>\n",
       "      <td>-0.365061</td>\n",
       "      <td>-0.190672</td>\n",
       "    </tr>\n",
       "    <tr>\n",
       "      <th>2</th>\n",
       "      <td>1.233880</td>\n",
       "      <td>1.943724</td>\n",
       "      <td>-0.263941</td>\n",
       "      <td>-1.288212</td>\n",
       "      <td>-0.692891</td>\n",
       "      <td>-1.103255</td>\n",
       "      <td>0.604397</td>\n",
       "      <td>-0.105584</td>\n",
       "    </tr>\n",
       "    <tr>\n",
       "      <th>3</th>\n",
       "      <td>-0.844885</td>\n",
       "      <td>-0.998208</td>\n",
       "      <td>-0.160546</td>\n",
       "      <td>0.154533</td>\n",
       "      <td>0.123302</td>\n",
       "      <td>-0.494043</td>\n",
       "      <td>-0.920763</td>\n",
       "      <td>-1.041549</td>\n",
       "    </tr>\n",
       "    <tr>\n",
       "      <th>4</th>\n",
       "      <td>-1.141852</td>\n",
       "      <td>0.504055</td>\n",
       "      <td>-1.504687</td>\n",
       "      <td>0.907270</td>\n",
       "      <td>0.765836</td>\n",
       "      <td>1.409746</td>\n",
       "      <td>5.484909</td>\n",
       "      <td>-0.020496</td>\n",
       "    </tr>\n",
       "    <tr>\n",
       "      <th>...</th>\n",
       "      <td>...</td>\n",
       "      <td>...</td>\n",
       "      <td>...</td>\n",
       "      <td>...</td>\n",
       "      <td>...</td>\n",
       "      <td>...</td>\n",
       "      <td>...</td>\n",
       "      <td>...</td>\n",
       "    </tr>\n",
       "    <tr>\n",
       "      <th>763</th>\n",
       "      <td>1.827813</td>\n",
       "      <td>-0.622642</td>\n",
       "      <td>0.356432</td>\n",
       "      <td>1.722735</td>\n",
       "      <td>0.870031</td>\n",
       "      <td>0.115169</td>\n",
       "      <td>-0.908682</td>\n",
       "      <td>2.532136</td>\n",
       "    </tr>\n",
       "    <tr>\n",
       "      <th>764</th>\n",
       "      <td>-0.547919</td>\n",
       "      <td>0.034598</td>\n",
       "      <td>0.046245</td>\n",
       "      <td>0.405445</td>\n",
       "      <td>-0.692891</td>\n",
       "      <td>0.610154</td>\n",
       "      <td>-0.398282</td>\n",
       "      <td>-0.531023</td>\n",
       "    </tr>\n",
       "    <tr>\n",
       "      <th>765</th>\n",
       "      <td>0.342981</td>\n",
       "      <td>0.003301</td>\n",
       "      <td>0.149641</td>\n",
       "      <td>0.154533</td>\n",
       "      <td>0.279594</td>\n",
       "      <td>-0.735190</td>\n",
       "      <td>-0.685193</td>\n",
       "      <td>-0.275760</td>\n",
       "    </tr>\n",
       "    <tr>\n",
       "      <th>766</th>\n",
       "      <td>-0.844885</td>\n",
       "      <td>0.159787</td>\n",
       "      <td>-0.470732</td>\n",
       "      <td>-1.288212</td>\n",
       "      <td>-0.692891</td>\n",
       "      <td>-0.240205</td>\n",
       "      <td>-0.371101</td>\n",
       "      <td>1.170732</td>\n",
       "    </tr>\n",
       "    <tr>\n",
       "      <th>767</th>\n",
       "      <td>-0.844885</td>\n",
       "      <td>-0.873019</td>\n",
       "      <td>0.046245</td>\n",
       "      <td>0.656358</td>\n",
       "      <td>-0.692891</td>\n",
       "      <td>-0.202129</td>\n",
       "      <td>-0.473785</td>\n",
       "      <td>-0.871374</td>\n",
       "    </tr>\n",
       "  </tbody>\n",
       "</table>\n",
       "<p>768 rows × 8 columns</p>\n",
       "</div>"
      ],
      "text/plain": [
       "     Pregnancies   Glucose  BloodPressure  SkinThickness   Insulin       BMI  DiabetesPedigreeFunction       Age\n",
       "0       0.639947  0.848324       0.149641       0.907270 -0.692891  0.204013                  0.468492  1.425995\n",
       "1      -0.844885 -1.123396      -0.160546       0.530902 -0.692891 -0.684422                 -0.365061 -0.190672\n",
       "2       1.233880  1.943724      -0.263941      -1.288212 -0.692891 -1.103255                  0.604397 -0.105584\n",
       "3      -0.844885 -0.998208      -0.160546       0.154533  0.123302 -0.494043                 -0.920763 -1.041549\n",
       "4      -1.141852  0.504055      -1.504687       0.907270  0.765836  1.409746                  5.484909 -0.020496\n",
       "..           ...       ...            ...            ...       ...       ...                       ...       ...\n",
       "763     1.827813 -0.622642       0.356432       1.722735  0.870031  0.115169                 -0.908682  2.532136\n",
       "764    -0.547919  0.034598       0.046245       0.405445 -0.692891  0.610154                 -0.398282 -0.531023\n",
       "765     0.342981  0.003301       0.149641       0.154533  0.279594 -0.735190                 -0.685193 -0.275760\n",
       "766    -0.844885  0.159787      -0.470732      -1.288212 -0.692891 -0.240205                 -0.371101  1.170732\n",
       "767    -0.844885 -0.873019       0.046245       0.656358 -0.692891 -0.202129                 -0.473785 -0.871374\n",
       "\n",
       "[768 rows x 8 columns]"
      ]
     },
     "execution_count": 13,
     "metadata": {},
     "output_type": "execute_result"
    }
   ],
   "source": [
    "X = pd.DataFrame(X_scaled, columns=X.columns)\n",
    "X"
   ]
  },
  {
   "cell_type": "code",
   "execution_count": null,
   "id": "bd2de010",
   "metadata": {},
   "outputs": [],
   "source": [
    "# 3. Modeling & Prediction "
   ]
  },
  {
   "cell_type": "markdown",
   "id": "bb870644",
   "metadata": {},
   "source": [
    "knn modelimizi oluşturacağız.\n",
    "KNeighborsClassifier derki ; benim aslında bir komşuluk sayısı hyperparametrem var ,ifade etmen lazım. Ama sen onu simdi bilmiyorsun galiba onu pas geç der. Şimdilik pas geçelim.\n",
    "\n",
    "fit diyorum ve bağımlı değişkenlerim ile bağımsız değişkenlerimi veriyorum.knn modelimizi fit ettik. Modeli kurduk. \n",
    "\n",
    "Ne yapmış olduk ? Veri setinde bir öğrenme işlemi gerçekleştirdik. bağımlı ve bağımsız değişken arasındaki ilişkiyi öğrenmiş olduk. "
   ]
  },
  {
   "cell_type": "code",
   "execution_count": 48,
   "id": "4169d22f",
   "metadata": {},
   "outputs": [],
   "source": [
    "knn_model = KNeighborsClassifier().fit(X, y)"
   ]
  },
  {
   "cell_type": "markdown",
   "id": "ef3fd1e2",
   "metadata": {},
   "source": [
    "Şimdi diyelim ki bi tahmin yapmak istiyoruz.İlk önce şöyle yapalım random_user diyerek verisetinden rastgele bi hasta seçelim.\n",
    "\n",
    "Bir tane örneklem şec diyorum aynı değerleri almak için random_state i 45 diyorum.\n",
    "\n",
    "\n",
    "Şimdi kurmuş oldugumuz modele bu kullanıcıyı soralım bakalım.Diyabet olup olmadıgını diyoruz."
   ]
  },
  {
   "cell_type": "code",
   "execution_count": 46,
   "id": "b7cadbe2",
   "metadata": {},
   "outputs": [
    {
     "data": {
      "text/html": [
       "<div>\n",
       "<style scoped>\n",
       "    .dataframe tbody tr th:only-of-type {\n",
       "        vertical-align: middle;\n",
       "    }\n",
       "\n",
       "    .dataframe tbody tr th {\n",
       "        vertical-align: top;\n",
       "    }\n",
       "\n",
       "    .dataframe thead th {\n",
       "        text-align: right;\n",
       "    }\n",
       "</style>\n",
       "<table border=\"1\" class=\"dataframe\">\n",
       "  <thead>\n",
       "    <tr style=\"text-align: right;\">\n",
       "      <th></th>\n",
       "      <th>Pregnancies</th>\n",
       "      <th>Glucose</th>\n",
       "      <th>BloodPressure</th>\n",
       "      <th>SkinThickness</th>\n",
       "      <th>Insulin</th>\n",
       "      <th>BMI</th>\n",
       "      <th>DiabetesPedigreeFunction</th>\n",
       "      <th>Age</th>\n",
       "    </tr>\n",
       "  </thead>\n",
       "  <tbody>\n",
       "    <tr>\n",
       "      <th>195</th>\n",
       "      <td>0.342981</td>\n",
       "      <td>1.161295</td>\n",
       "      <td>0.770014</td>\n",
       "      <td>1.283638</td>\n",
       "      <td>1.130518</td>\n",
       "      <td>0.940144</td>\n",
       "      <td>-0.232176</td>\n",
       "      <td>-0.360847</td>\n",
       "    </tr>\n",
       "  </tbody>\n",
       "</table>\n",
       "</div>"
      ],
      "text/plain": [
       "     Pregnancies   Glucose  BloodPressure  SkinThickness   Insulin       BMI  DiabetesPedigreeFunction       Age\n",
       "195     0.342981  1.161295       0.770014       1.283638  1.130518  0.940144                 -0.232176 -0.360847"
      ]
     },
     "execution_count": 46,
     "metadata": {},
     "output_type": "execute_result"
    }
   ],
   "source": [
    "random_user = X.sample(1, random_state=45)\n",
    "\n",
    "random_user"
   ]
  },
  {
   "cell_type": "markdown",
   "id": "73e578ec",
   "metadata": {},
   "source": [
    "knn_model i derki beni kullanmana izin veriyorum. Ben modeli öğrendim.Ve tahminlerde bulunabiliyorum der.  \n",
    "\n",
    "Predict metodu derki hangi özellikleri sormamı istersin knn modele. Ben aracıyım.Senin bana verecek oldugun  özelliklere göre gidip knn modele soracağım elimde bu bu bu özellikler var , söyle bakalım bu kişi diyabet hastası mı?"
   ]
  },
  {
   "cell_type": "code",
   "execution_count": 16,
   "id": "b8d530ff",
   "metadata": {},
   "outputs": [
    {
     "data": {
      "text/plain": [
       "array([1])"
      ]
     },
     "execution_count": 16,
     "metadata": {},
     "output_type": "execute_result"
    }
   ],
   "source": [
    "knn_model.predict(random_user)"
   ]
  },
  {
   "cell_type": "markdown",
   "id": "07263a35",
   "metadata": {},
   "source": [
    "modeli fit etmek yani train etmek ayrı bir süreçtir. Train edilen modeli kullanarak tahminlerde bulunmak ayrı bir süreçtir. \n",
    "\n",
    "Predict diyerek model üzerinden tahminde bulunuyoruz.\n",
    "\n",
    "\n",
    "Bütün veriseti için tahminlerde bulunup, başarımızın ne oldugunu görmek istersek de model basarı kriterlerine gitmek lazım."
   ]
  },
  {
   "cell_type": "code",
   "execution_count": 17,
   "id": "1baf62b8",
   "metadata": {},
   "outputs": [],
   "source": [
    "# 4. Model Evaluation"
   ]
  },
  {
   "cell_type": "markdown",
   "id": "a18a1505",
   "metadata": {},
   "source": [
    "Model başarısını değerlendirme işlemini ele alacğız. Tek bir gözlem birimi için tahminde bulunduk. knn modelini kullanarak bütün gözlem birimleri içip tahmin yapıp, bunları bir yerde saklamak lazım\n"
   ]
  },
  {
   "cell_type": "code",
   "execution_count": 49,
   "id": "c55ab21f",
   "metadata": {},
   "outputs": [
    {
     "data": {
      "text/plain": [
       "array([1, 0, 1, 0, 0, 0, 0, 0, 1, 0, 0, 1, 0, 1, 0, 0, 1, 1, 0, 0, 0, 0,\n",
       "       1, 1, 1, 1, 1, 0, 0, 0, 1, 1, 0, 0, 1, 0, 0, 0, 0, 1, 1, 1, 0, 1,\n",
       "       1, 1, 0, 0, 0, 0, 0, 0, 0, 1, 0, 0, 1, 0, 1, 0, 0, 1, 0, 0, 1, 0,\n",
       "       0, 1, 0, 1, 0, 1, 1, 0, 0, 0, 0, 0, 1, 0, 0, 0, 0, 0, 1, 0, 0, 0,\n",
       "       1, 0, 0, 0, 0, 0, 0, 0, 0, 0, 0, 1, 1, 0, 0, 0, 0, 0, 0, 0, 0, 0,\n",
       "       1, 1, 0, 0, 0, 1, 1, 0, 0, 0, 1, 0, 0, 0, 0, 0, 0, 0, 1, 0, 1, 1,\n",
       "       1, 0, 0, 0, 0, 0, 0, 0, 0, 0, 0, 1, 1, 0, 0, 0, 0, 0, 0, 0, 1, 0,\n",
       "       1, 1, 0, 0, 0, 1, 0, 0, 0, 0, 0, 0, 0, 0, 0, 0, 1, 0, 0, 0, 0, 1,\n",
       "       0, 1, 0, 0, 0, 0, 0, 0, 0, 1, 1, 1, 0, 0, 0, 0, 1, 1, 0, 1, 0, 0,\n",
       "       0, 1, 0, 0, 0, 0, 0, 0, 1, 1, 0, 1, 0, 0, 1, 0, 1, 1, 0, 0, 0, 1,\n",
       "       1, 1, 0, 0, 0, 0, 0, 0, 1, 0, 1, 1, 0, 0, 0, 1, 1, 1, 1, 0, 0, 0,\n",
       "       0, 0, 0, 1, 1, 0, 0, 0, 1, 0, 0, 0, 1, 0, 0, 0, 0, 1, 1, 1, 0, 0,\n",
       "       1, 1, 1, 0, 0, 1, 1, 0, 0, 0, 0, 0, 0, 0, 0, 0, 0, 1, 0, 1, 0, 1,\n",
       "       0, 0, 0, 0, 0, 0, 1, 0, 0, 0, 1, 0, 1, 0, 1, 0, 0, 1, 0, 0, 1, 0,\n",
       "       0, 1, 0, 0, 1, 0, 1, 0, 0, 1, 0, 0, 0, 0, 0, 1, 0, 0, 1, 1, 0, 0,\n",
       "       1, 0, 1, 0, 0, 0, 1, 1, 1, 1, 0, 0, 0, 0, 0, 0, 0, 0, 0, 0, 0, 0,\n",
       "       0, 0, 0, 1, 1, 1, 0, 1, 1, 0, 0, 1, 0, 0, 0, 0, 0, 1, 1, 0, 0, 0,\n",
       "       1, 1, 0, 0, 1, 0, 0, 0, 0, 0, 0, 0, 0, 0, 1, 0, 1, 1, 0, 0, 1, 0,\n",
       "       0, 0, 0, 1, 0, 1, 0, 0, 1, 0, 1, 0, 1, 0, 0, 0, 0, 0, 1, 1, 0, 1,\n",
       "       0, 0, 1, 0, 0, 0, 1, 1, 0, 1, 0, 1, 0, 0, 0, 0, 0, 1, 1, 0, 0, 0,\n",
       "       1, 0, 0, 1, 0, 1, 0, 0, 0, 0, 0, 0, 0, 0, 0, 1, 0, 0, 1, 0, 0, 0,\n",
       "       0, 0, 1, 0, 0, 0, 0, 1, 1, 0, 0, 1, 0, 0, 0, 0, 0, 0, 1, 0, 0, 0,\n",
       "       1, 0, 0, 1, 0, 0, 0, 0, 0, 1, 0, 0, 0, 0, 1, 1, 0, 0, 0, 0, 0, 0,\n",
       "       1, 0, 0, 0, 0, 0, 0, 0, 0, 1, 1, 0, 0, 0, 0, 0, 0, 1, 0, 0, 0, 0,\n",
       "       0, 0, 0, 0, 0, 0, 0, 1, 0, 0, 0, 1, 1, 0, 1, 0, 0, 1, 1, 0, 0, 1,\n",
       "       0, 0, 0, 0, 0, 0, 0, 0, 0, 0, 0, 1, 0, 0, 0, 0, 0, 0, 1, 0, 0, 0,\n",
       "       0, 0, 0, 0, 0, 0, 0, 1, 1, 0, 0, 1, 1, 0, 1, 0, 1, 0, 1, 0, 1, 0,\n",
       "       0, 1, 0, 0, 1, 0, 0, 0, 0, 1, 1, 0, 1, 0, 0, 0, 0, 1, 1, 0, 1, 0,\n",
       "       0, 0, 1, 1, 0, 0, 1, 0, 0, 0, 0, 1, 1, 0, 1, 0, 0, 0, 0, 0, 1, 0,\n",
       "       0, 0, 0, 0, 1, 0, 0, 1, 1, 1, 0, 0, 0, 0, 0, 0, 0, 0, 0, 1, 0, 0,\n",
       "       1, 1, 1, 1, 0, 0, 0, 1, 0, 1, 1, 0, 0, 1, 0, 1, 1, 0, 0, 0, 0, 1,\n",
       "       0, 0, 0, 0, 0, 0, 0, 1, 0, 1, 0, 0, 0, 1, 1, 0, 0, 1, 0, 1, 1, 1,\n",
       "       0, 0, 0, 0, 1, 0, 0, 1, 1, 0, 0, 1, 1, 0, 0, 0, 0, 0, 1, 0, 0, 0,\n",
       "       0, 0, 0, 0, 0, 1, 1, 0, 0, 0, 0, 0, 0, 1, 1, 0, 0, 1, 1, 0, 1, 0,\n",
       "       1, 1, 1, 0, 0, 1, 1, 1, 0, 1, 0, 0, 0, 1, 0, 0, 0, 0, 1, 0])"
      ]
     },
     "execution_count": 49,
     "metadata": {},
     "output_type": "execute_result"
    }
   ],
   "source": [
    "# Confusion matrix için y_pred:\n",
    "y_pred = knn_model.predict(X)\n",
    "y_pred"
   ]
  },
  {
   "cell_type": "code",
   "execution_count": 51,
   "id": "8305c6ae",
   "metadata": {},
   "outputs": [
    {
     "data": {
      "text/plain": [
       "array([0.8, 0. , 0.8, 0. , 0.4, 0.2, 0.2, 0.4, 0.6, 0.4, 0. , 0.6, 0.4,\n",
       "       1. , 0.4, 0.4, 0.8, 0.6, 0.2, 0.4, 0.4, 0. , 0.8, 0.6, 0.6, 0.6,\n",
       "       0.8, 0. , 0.4, 0.4, 0.6, 0.6, 0. , 0. , 0.8, 0.2, 0.4, 0.4, 0.2,\n",
       "       0.6, 0.8, 0.6, 0.2, 1. , 0.6, 0.8, 0.4, 0. , 0.2, 0.2, 0. , 0. ,\n",
       "       0. , 1. , 0.4, 0. , 0.8, 0. , 0.6, 0. , 0. , 0.8, 0. , 0.2, 1. ,\n",
       "       0. , 0.4, 0.8, 0. , 0.6, 0.2, 0.6, 0.6, 0. , 0. , 0. , 0. , 0.2,\n",
       "       0.8, 0. , 0. , 0. , 0.2, 0. , 0.6, 0.2, 0.2, 0. , 0.6, 0. , 0. ,\n",
       "       0.4, 0.2, 0.2, 0.2, 0. , 0. , 0. , 0. , 0.6, 0.8, 0.2, 0. , 0. ,\n",
       "       0.2, 0. , 0. , 0.4, 0.2, 0.2, 0.8, 0.6, 0. , 0.2, 0.2, 0.6, 0.6,\n",
       "       0. , 0. , 0. , 0.8, 0.2, 0. , 0.2, 0.2, 0.2, 0.2, 0.2, 0.8, 0.4,\n",
       "       0.8, 0.8, 0.8, 0.2, 0.2, 0.2, 0.2, 0. , 0.4, 0.2, 0.4, 0. , 0. ,\n",
       "       0.6, 0.6, 0. , 0.2, 0.4, 0.2, 0. , 0.2, 0. , 0.6, 0.4, 0.8, 0.8,\n",
       "       0.2, 0. , 0. , 0.8, 0.2, 0. , 0.2, 0. , 0.4, 0.2, 0. , 0.4, 0.4,\n",
       "       0. , 0.6, 0.4, 0.2, 0.2, 0. , 0.8, 0.4, 0.8, 0.4, 0.4, 0.2, 0.4,\n",
       "       0. , 0.2, 0.4, 1. , 1. , 1. , 0.2, 0.2, 0. , 0.2, 0.6, 0.6, 0.4,\n",
       "       0.6, 0. , 0.2, 0.4, 0.6, 0. , 0.4, 0. , 0. , 0. , 0.2, 0.8, 0.6,\n",
       "       0. , 0.8, 0. , 0.4, 0.6, 0.4, 0.6, 1. , 0.2, 0.4, 0.4, 1. , 0.6,\n",
       "       0.8, 0.4, 0.4, 0.2, 0.2, 0.2, 0.4, 0.8, 0.2, 0.8, 0.6, 0. , 0.4,\n",
       "       0. , 1. , 0.8, 0.8, 1. , 0. , 0. , 0. , 0.2, 0.4, 0.2, 0.8, 0.6,\n",
       "       0.4, 0.4, 0. , 0.6, 0. , 0. , 0. , 0.6, 0.4, 0.2, 0. , 0.4, 0.8,\n",
       "       0.8, 1. , 0. , 0.2, 0.6, 0.6, 0.8, 0.4, 0. , 0.8, 1. , 0. , 0.2,\n",
       "       0.2, 0.4, 0.2, 0.2, 0. , 0.2, 0. , 0.4, 0.6, 0.2, 0.8, 0.4, 0.6,\n",
       "       0.4, 0.4, 0. , 0.2, 0.2, 0.4, 0.8, 0.4, 0.2, 0.4, 0.6, 0. , 0.6,\n",
       "       0. , 0.8, 0.4, 0. , 0.6, 0. , 0. , 0.6, 0. , 0.2, 0.6, 0. , 0.2,\n",
       "       0.8, 0. , 0.8, 0. , 0. , 0.6, 0. , 0.4, 0.2, 0.2, 0.4, 0.8, 0.2,\n",
       "       0. , 0.6, 0.8, 0.2, 0. , 0.6, 0. , 0.8, 0.2, 0. , 0.4, 0.6, 0.8,\n",
       "       0.8, 1. , 0.2, 0. , 0.2, 0.2, 0. , 0.2, 0. , 0.2, 0. , 0.4, 0. ,\n",
       "       0.2, 0.2, 0. , 0.2, 0.8, 0.6, 0.8, 0.4, 1. , 1. , 0.2, 0.4, 0.6,\n",
       "       0.4, 0. , 0.4, 0. , 0. , 0.8, 0.6, 0. , 0. , 0. , 0.8, 1. , 0. ,\n",
       "       0.2, 0.6, 0.4, 0.2, 0. , 0. , 0. , 0.2, 0. , 0.4, 0.2, 0.8, 0.2,\n",
       "       0.8, 1. , 0.2, 0. , 0.6, 0.4, 0. , 0.2, 0. , 0.6, 0.4, 0.6, 0.2,\n",
       "       0.2, 0.6, 0.4, 0.8, 0. , 1. , 0.4, 0.2, 0. , 0.4, 0.2, 0.6, 0.6,\n",
       "       0. , 0.6, 0. , 0.2, 0.6, 0. , 0. , 0. , 0.8, 1. , 0. , 1. , 0. ,\n",
       "       0.6, 0. , 0. , 0. , 0. , 0.2, 0.8, 0.6, 0.4, 0. , 0.4, 0.6, 0. ,\n",
       "       0. , 0.6, 0.4, 1. , 0. , 0. , 0.4, 0. , 0. , 0.4, 0. , 0. , 0.2,\n",
       "       0.6, 0.2, 0. , 1. , 0.2, 0.2, 0. , 0.2, 0. , 0.6, 0. , 0. , 0.4,\n",
       "       0.4, 0.6, 0.6, 0.2, 0. , 0.6, 0. , 0.2, 0.2, 0. , 0.4, 0.4, 0.8,\n",
       "       0. , 0. , 0.2, 0.8, 0.2, 0.4, 0.6, 0. , 0.4, 0. , 0. , 0. , 0.6,\n",
       "       0. , 0.2, 0.2, 0. , 0.6, 0.6, 0. , 0. , 0.4, 0.2, 0. , 0. , 1. ,\n",
       "       0. , 0.2, 0. , 0.4, 0. , 0. , 0. , 0. , 0.8, 0.8, 0.2, 0.4, 0.4,\n",
       "       0. , 0.2, 0.2, 0.6, 0.2, 0. , 0. , 0. , 0.2, 0. , 0. , 0.2, 0.2,\n",
       "       0.2, 0.2, 0.8, 0.4, 0.2, 0. , 0.6, 0.6, 0.2, 0.6, 0.2, 0. , 1. ,\n",
       "       0.8, 0. , 0.2, 0.6, 0. , 0. , 0.2, 0. , 0. , 0. , 0.2, 0.2, 0.2,\n",
       "       0.4, 0.4, 1. , 0. , 0.4, 0.2, 0.2, 0. , 0. , 0.6, 0.4, 0.4, 0. ,\n",
       "       0. , 0. , 0.2, 0.2, 0.2, 0.4, 0.4, 0.8, 0.6, 0.2, 0. , 0.6, 0.8,\n",
       "       0. , 1. , 0.4, 0.8, 0. , 1. , 0. , 0.8, 0. , 0.4, 1. , 0.4, 0. ,\n",
       "       0.8, 0. , 0. , 0.2, 0.2, 0.6, 0.8, 0.4, 0.8, 0. , 0.2, 0. , 0. ,\n",
       "       1. , 0.8, 0.2, 0.8, 0. , 0.4, 0. , 0.6, 0.6, 0. , 0.2, 0.6, 0. ,\n",
       "       0. , 0. , 0. , 0.6, 0.8, 0. , 0.6, 0. , 0. , 0. , 0.2, 0.4, 0.8,\n",
       "       0. , 0.2, 0. , 0. , 0.2, 0.6, 0.2, 0. , 0.8, 0.8, 1. , 0.4, 0. ,\n",
       "       0. , 0.2, 0.2, 0.2, 0. , 0.4, 0. , 0.8, 0.4, 0.4, 0.8, 0.8, 1. ,\n",
       "       0.8, 0.4, 0. , 0.2, 0.8, 0.2, 0.6, 0.8, 0. , 0.2, 0.6, 0. , 0.8,\n",
       "       0.6, 0. , 0.2, 0. , 0. , 0.6, 0. , 0.2, 0.4, 0.2, 0.2, 0. , 0. ,\n",
       "       0.6, 0.4, 0.8, 0.4, 0.4, 0. , 0.8, 0.8, 0.2, 0.4, 0.6, 0.2, 0.6,\n",
       "       0.8, 0.8, 0. , 0.2, 0.2, 0.2, 0.8, 0.2, 0.2, 0.6, 0.6, 0. , 0.2,\n",
       "       0.8, 0.8, 0. , 0. , 0.2, 0. , 0. , 0.6, 0.2, 0.4, 0. , 0. , 0. ,\n",
       "       0.2, 0. , 0.4, 0.6, 0.6, 0. , 0.4, 0. , 0. , 0. , 0. , 0.8, 1. ,\n",
       "       0. , 0. , 0.6, 0.8, 0.4, 0.6, 0. , 0.8, 0.6, 0.8, 0. , 0. , 0.6,\n",
       "       0.6, 0.8, 0.4, 0.8, 0.2, 0.4, 0. , 1. , 0. , 0. , 0.2, 0.4, 1. ,\n",
       "       0. ])"
      ]
     },
     "execution_count": 51,
     "metadata": {},
     "output_type": "execute_result"
    }
   ],
   "source": [
    "# AUC için y_prob: \n",
    "y_prob = knn_model.predict_proba(X)[:, 1]\n",
    "y_prob\n",
    "\n",
    "# 1 sınıfına ait olma olasılıklarını getiriyoruz.\n",
    "# Bu olasılık değerleri üzerinden roc eğrisi skoru hesaplayacağız"
   ]
  },
  {
   "cell_type": "code",
   "execution_count": 52,
   "id": "fb9a3dac",
   "metadata": {},
   "outputs": [
    {
     "name": "stdout",
     "output_type": "stream",
     "text": [
      "              precision    recall  f1-score   support\n",
      "\n",
      "           0       0.85      0.90      0.87       500\n",
      "           1       0.79      0.70      0.74       268\n",
      "\n",
      "    accuracy                           0.83       768\n",
      "   macro avg       0.82      0.80      0.81       768\n",
      "weighted avg       0.83      0.83      0.83       768\n",
      "\n"
     ]
    }
   ],
   "source": [
    "print(classification_report(y, y_pred))"
   ]
  },
  {
   "cell_type": "code",
   "execution_count": 23,
   "id": "f86461e6",
   "metadata": {},
   "outputs": [
    {
     "data": {
      "text/plain": [
       "0.9017686567164179"
      ]
     },
     "execution_count": 23,
     "metadata": {},
     "output_type": "execute_result"
    }
   ],
   "source": [
    "roc_auc_score(y, y_prob)"
   ]
  },
  {
   "cell_type": "code",
   "execution_count": null,
   "id": "27b1c1bb",
   "metadata": {},
   "outputs": [],
   "source": [
    "Modelin"
   ]
  },
  {
   "cell_type": "code",
   "execution_count": 25,
   "id": "b46a9f39",
   "metadata": {},
   "outputs": [
    {
     "data": {
      "text/plain": [
       "{'fit_time': array([0.00532603, 0.00272608, 0.00184584, 0.00123072, 0.00128698]),\n",
       " 'score_time': array([0.02272701, 0.01509809, 0.00938201, 0.00955224, 0.00820613]),\n",
       " 'test_accuracy': array([0.72077922, 0.73376623, 0.71428571, 0.77124183, 0.7254902 ]),\n",
       " 'test_f1': array([0.58252427, 0.60952381, 0.54166667, 0.63917526, 0.58      ]),\n",
       " 'test_roc_auc': array([0.77555556, 0.78759259, 0.73194444, 0.83226415, 0.77528302])}"
      ]
     },
     "execution_count": 25,
     "metadata": {},
     "output_type": "execute_result"
    }
   ],
   "source": [
    "cv_results = cross_validate(knn_model, X, y, cv=5, scoring=[\"accuracy\", \"f1\", \"roc_auc\"])\n",
    "cv_results"
   ]
  },
  {
   "cell_type": "code",
   "execution_count": 26,
   "id": "edabd14e",
   "metadata": {},
   "outputs": [
    {
     "data": {
      "text/plain": [
       "0.733112638994992"
      ]
     },
     "execution_count": 26,
     "metadata": {},
     "output_type": "execute_result"
    }
   ],
   "source": [
    "cv_results['test_accuracy'].mean()"
   ]
  },
  {
   "cell_type": "code",
   "execution_count": 27,
   "id": "721cc347",
   "metadata": {},
   "outputs": [
    {
     "data": {
      "text/plain": [
       "0.5905780011534191"
      ]
     },
     "execution_count": 27,
     "metadata": {},
     "output_type": "execute_result"
    }
   ],
   "source": [
    "cv_results['test_f1'].mean()"
   ]
  },
  {
   "cell_type": "code",
   "execution_count": 28,
   "id": "c89c7a2a",
   "metadata": {},
   "outputs": [
    {
     "data": {
      "text/plain": [
       "0.7805279524807827"
      ]
     },
     "execution_count": 28,
     "metadata": {},
     "output_type": "execute_result"
    }
   ],
   "source": [
    "cv_results['test_roc_auc'].mean()"
   ]
  },
  {
   "cell_type": "code",
   "execution_count": 29,
   "id": "63fa90bc",
   "metadata": {},
   "outputs": [],
   "source": [
    "# 1. Örnek boyutu arttıralabilir.\n",
    "# 2. Veri ön işleme\n",
    "# 3. Özellik mühendisliği\n",
    "# 4. İlgili algoritma için optimizasyonlar yapılabilir."
   ]
  },
  {
   "cell_type": "code",
   "execution_count": 30,
   "id": "85e03e58",
   "metadata": {},
   "outputs": [
    {
     "data": {
      "text/plain": [
       "{'algorithm': 'auto',\n",
       " 'leaf_size': 30,\n",
       " 'metric': 'minkowski',\n",
       " 'metric_params': None,\n",
       " 'n_jobs': None,\n",
       " 'n_neighbors': 5,\n",
       " 'p': 2,\n",
       " 'weights': 'uniform'}"
      ]
     },
     "execution_count": 30,
     "metadata": {},
     "output_type": "execute_result"
    }
   ],
   "source": [
    "knn_model.get_params()"
   ]
  },
  {
   "cell_type": "code",
   "execution_count": 31,
   "id": "7fac3e51",
   "metadata": {},
   "outputs": [],
   "source": [
    "# 5. Hyperparameter Optimization\n"
   ]
  },
  {
   "cell_type": "code",
   "execution_count": 35,
   "id": "39bce9ca",
   "metadata": {},
   "outputs": [
    {
     "name": "stdout",
     "output_type": "stream",
     "text": [
      "Fitting 5 folds for each of 48 candidates, totalling 240 fits\n"
     ]
    },
    {
     "data": {
      "text/plain": [
       "{'n_neighbors': 17}"
      ]
     },
     "execution_count": 35,
     "metadata": {},
     "output_type": "execute_result"
    }
   ],
   "source": [
    "knn_model = KNeighborsClassifier()\n",
    "knn_model.get_params()\n",
    "knn_params = {\"n_neighbors\": range(2, 50)}\n",
    "knn_gs_best = GridSearchCV(knn_model,\n",
    "                           knn_params,\n",
    "                           cv=5,\n",
    "                           n_jobs=-1,\n",
    "                           verbose=1).fit(X, y)\n",
    "knn_gs_best.best_params_\n"
   ]
  },
  {
   "cell_type": "code",
   "execution_count": 36,
   "id": "cd90f8a9",
   "metadata": {},
   "outputs": [],
   "source": [
    "# 6. Final Model"
   ]
  },
  {
   "cell_type": "code",
   "execution_count": 38,
   "id": "b4885161",
   "metadata": {},
   "outputs": [
    {
     "data": {
      "text/plain": [
       "KNeighborsClassifier(n_neighbors=17)"
      ]
     },
     "execution_count": 38,
     "metadata": {},
     "output_type": "execute_result"
    }
   ],
   "source": [
    "knn_final = knn_model.set_params(**knn_gs_best.best_params_).fit(X, y)\n",
    "knn_final"
   ]
  },
  {
   "cell_type": "code",
   "execution_count": 39,
   "id": "048a4a6c",
   "metadata": {},
   "outputs": [],
   "source": [
    "cv_results = cross_validate(knn_final,\n",
    "                            X,\n",
    "                            y,\n",
    "                            cv=5,\n",
    "                            scoring=[\"accuracy\", \"f1\", \"roc_auc\"])"
   ]
  },
  {
   "cell_type": "code",
   "execution_count": 40,
   "id": "e1b6f0df",
   "metadata": {},
   "outputs": [
    {
     "data": {
      "text/plain": [
       "0.7669892199303965"
      ]
     },
     "execution_count": 40,
     "metadata": {},
     "output_type": "execute_result"
    }
   ],
   "source": [
    "cv_results['test_accuracy'].mean()\n"
   ]
  },
  {
   "cell_type": "code",
   "execution_count": 41,
   "id": "ffdffb18",
   "metadata": {},
   "outputs": [
    {
     "data": {
      "text/plain": [
       "0.6170909049720137"
      ]
     },
     "execution_count": 41,
     "metadata": {},
     "output_type": "execute_result"
    }
   ],
   "source": [
    "cv_results['test_f1'].mean()\n"
   ]
  },
  {
   "cell_type": "code",
   "execution_count": 42,
   "id": "3a73ba09",
   "metadata": {},
   "outputs": [
    {
     "data": {
      "text/plain": [
       "0.8127938504542278"
      ]
     },
     "execution_count": 42,
     "metadata": {},
     "output_type": "execute_result"
    }
   ],
   "source": [
    "cv_results['test_roc_auc'].mean()\n"
   ]
  },
  {
   "cell_type": "code",
   "execution_count": 45,
   "id": "983d005f",
   "metadata": {},
   "outputs": [
    {
     "data": {
      "text/html": [
       "<div>\n",
       "<style scoped>\n",
       "    .dataframe tbody tr th:only-of-type {\n",
       "        vertical-align: middle;\n",
       "    }\n",
       "\n",
       "    .dataframe tbody tr th {\n",
       "        vertical-align: top;\n",
       "    }\n",
       "\n",
       "    .dataframe thead th {\n",
       "        text-align: right;\n",
       "    }\n",
       "</style>\n",
       "<table border=\"1\" class=\"dataframe\">\n",
       "  <thead>\n",
       "    <tr style=\"text-align: right;\">\n",
       "      <th></th>\n",
       "      <th>Pregnancies</th>\n",
       "      <th>Glucose</th>\n",
       "      <th>BloodPressure</th>\n",
       "      <th>SkinThickness</th>\n",
       "      <th>Insulin</th>\n",
       "      <th>BMI</th>\n",
       "      <th>DiabetesPedigreeFunction</th>\n",
       "      <th>Age</th>\n",
       "    </tr>\n",
       "  </thead>\n",
       "  <tbody>\n",
       "    <tr>\n",
       "      <th>697</th>\n",
       "      <td>-1.141852</td>\n",
       "      <td>-0.685236</td>\n",
       "      <td>-3.572597</td>\n",
       "      <td>-1.288212</td>\n",
       "      <td>-0.692891</td>\n",
       "      <td>-0.887493</td>\n",
       "      <td>-0.661032</td>\n",
       "      <td>-0.956462</td>\n",
       "    </tr>\n",
       "  </tbody>\n",
       "</table>\n",
       "</div>"
      ],
      "text/plain": [
       "     Pregnancies   Glucose  BloodPressure  SkinThickness   Insulin       BMI  DiabetesPedigreeFunction       Age\n",
       "697    -1.141852 -0.685236      -3.572597      -1.288212 -0.692891 -0.887493                 -0.661032 -0.956462"
      ]
     },
     "execution_count": 45,
     "metadata": {},
     "output_type": "execute_result"
    }
   ],
   "source": [
    "random_user = X.sample(1)\n",
    "random_user"
   ]
  },
  {
   "cell_type": "code",
   "execution_count": 44,
   "id": "1ba9b62f",
   "metadata": {},
   "outputs": [
    {
     "data": {
      "text/plain": [
       "array([0])"
      ]
     },
     "execution_count": 44,
     "metadata": {},
     "output_type": "execute_result"
    }
   ],
   "source": [
    "knn_final.predict(random_user)\n"
   ]
  }
 ],
 "metadata": {
  "kernelspec": {
   "display_name": "Python 3 (ipykernel)",
   "language": "python",
   "name": "python3"
  },
  "language_info": {
   "codemirror_mode": {
    "name": "ipython",
    "version": 3
   },
   "file_extension": ".py",
   "mimetype": "text/x-python",
   "name": "python",
   "nbconvert_exporter": "python",
   "pygments_lexer": "ipython3",
   "version": "3.9.12"
  }
 },
 "nbformat": 4,
 "nbformat_minor": 5
}
